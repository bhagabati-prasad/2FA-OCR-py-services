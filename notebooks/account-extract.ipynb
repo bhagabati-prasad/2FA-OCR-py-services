{
 "cells": [
  {
   "cell_type": "code",
   "execution_count": 56,
   "metadata": {},
   "outputs": [],
   "source": [
    "import re\n",
    "import json\n",
    "\n",
    "input_data = []\n",
    "\n",
    "# Read the response data from the JSON file\n",
    "\n",
    "with open(\"../json/account2.json\", \"r\") as file:\n",
    "    input_data = json.load(file)"
   ]
  },
  {
   "cell_type": "code",
   "execution_count": 14,
   "metadata": {},
   "outputs": [
    {
     "name": "stdout",
     "output_type": "stream",
     "text": [
      "[{'text': ''}, {'text': 'Name PREMNATH K'}, {'text': 'Address5 71D MULLAI NAGAR'}, {'text': 'RAMANATHAPURAM PUDUR'}, {'text': 'BOMMASAMUTHIRAM'}, {'text': 'SENTHAMANGALAM'}, {'text': 'City NAMAKKAL'}, {'text': 'State TAMIL NADU'}, {'text': 'Pincode 637409'}, {'text': 'Mobile No 918778588300'}, {'text': 'Email Id premnath455@gmail.com'}, {'text': 'Home branch RAMANATHAPURAMPUDUR'}, {'text': 'IFSC UBIN0915530Customer/CIF ID 2005144467'}, {'text': 'Account Type Savings Account'}, {'text': 'Account Number 520101030931068'}, {'text': 'Currency INR'}, {'text': 'Branch Address 2/33 KARAVALLI ROAD'}, {'text': 'CORPORATION BANK'}, {'text': 'AKKIAMPATTY'}, {'text': 'Statement Date 18/06/2024 03:23 PM'}, {'text': 'Statement Period 01/12/2023 To 31/05'}, {'text': '/2024'}, {'text': 'S.No Date Transaction Id Remarks Amount(Rs.) Balance(Rs.)'}, {'text': '131/05/2024 S98219648 UPIAR/415205266903/DR/ITPL PSQ/YESB'}, {'text': '/paytmqr281005020.00 (Dr) 8644.54 (Cr)'}, {'text': '231/05/2024 S97639879 UPIAR/415295061224/DR/PVR INOX/YESB'}, {'text': '/amznplpvrv2016850.00 (Dr) 8664.54 (Cr)'}, {'text': '331/05/2024 S79363620 UPIAR/451806719583/DR/Anojja /SBIN/ anojja@yb 75.00 (Dr) 9514.54 (Cr)'}, {'text': '430/05/2024 S60094490 UPIAR/451872669893/DR/AMERIKA /YESB/'}, {'text': 'Q865949278@yb20.00 (Dr) 9589.54 (Cr)'}, {'text': '530/05/2024 S60022065 UPIAB/415250991442/CR/PRAVEEN /HDFC'}, {'text': '/praveen89333-19200.00 (Cr) 9609.54 (Cr)'}, {'text': '628/05/2024 S70742297 UPIAB/451537928741/CR/PRAVEEN /SBIN/'}, {'text': '7708343003@ib100.00 (Cr) 409.54 (Cr)'}, {'text': '728/05/2024 S65886631 UPIAR/414939250897/DR/ SIMNA C/YESB'}, {'text': '/paytmqrgx66yhk162.00 (Dr) 309.54 (Cr)'}, {'text': '828/05/2024 S65753207 UPIAR/451580308572/DR/Anandan /YESB/'}, {'text': 'Q112289977@yb50.00 (Dr) 471.54 (Cr)'}, {'text': '928/05/2024 S48406728 UPIAR/451575377915/DR/SHILPA N/YESB/'}, {'text': 'Q517720215@yb20.00 (Dr) 521.54 (Cr)'}, {'text': '1028/05/2024 S48341181 UPIAR/414979362083/DR/S Sangee/YESB'}, {'text': '/paytmqr10tnjeo75.00 (Dr) 541.54 (Cr)'}, {'text': '1128/05/2024 S40122451 UPIAR/451521088619/DR/PRAVEEN /SBIN/'}, {'text': '7708343003@ax100.00 (Dr) 616.54 (Cr)'}, {'text': '1227/05/2024 S1904121 UPIAR/414830811710/DR/S Sangee/YESB'}, {'text': '/paytmqr281005010.00 (Dr) 716.54 (Cr)'}, {'text': '1327/05/2024 S1876447 UPIAR/414810936207/DR/S Sangee/YESB'}, {'text': '/paytmqr281005045.00 (Dr) 726.54 (Cr)'}, {'text': '1421/05/2024 S52830396 UPIAB/450807644537/CR/SARAVANA/UBIN'}, {'text': '/saranmech0001-100.00 (Cr) 771.54 (Cr)Details of statementScan the QR code'}, {'text': 'to download Vyom on'}, {'text': 'your smartphone'}, {'text': 'NEFT : National Electronic Fund Transfer\\xa0\\xa0\\xa0\\xa0| UPI : Unified Payment Interface'}, {'text': 'RTGS : Real Time Gross Settlement\\xa0\\xa0\\xa0\\xa0\\xa0\\xa0\\xa0\\xa0\\xa0\\xa0\\xa0\\xa0\\xa0\\xa0| INT : Intra Fund Transfer'}, {'text': 'Bharat Bill Payment ServiceBBPS :\\xa0\\xa0\\xa0This is system generated statement and does not require signature'}, {'text': 'https://www.unionbankofindia.co.in'}, {'text': 'Request to our customers for immediately notifying their base branch, in case of any discrepancy'}, {'text': 'in the bank statement.'}, {'text': 'Registered office: Union Bank Bhavan,239,Vidhan Bhavan Marg,Nariman Point,Mumbai-'}, {'text': '400021,India.'}, {'text': 'NEFT : National Electronic Fund Transfer\\xa0\\xa0\\xa0\\xa0| UPI : Unified Payment Interface'}, {'text': 'RTGS : Real Time Gross Settlement\\xa0\\xa0\\xa0\\xa0\\xa0\\xa0\\xa0\\xa0\\xa0\\xa0\\xa0\\xa0\\xa0\\xa0| INT : Intra Fund Transfer'}, {'text': 'Bharat Bill Payment ServiceBBPS :\\xa0\\xa0\\xa0This is system generated statement and does not require signature'}, {'text': 'https://www.unionbankofindia.co.in'}, {'text': 'Request to our customers for immediately notifying their base branch, in case of any discrepancy'}, {'text': 'in the bank statement.'}, {'text': 'Registered office: Union Bank Bhavan,239,Vidhan Bhavan Marg,Nariman Point,Mumbai-'}, {'text': '400021,India.'}, {'text': ''}, {'text': 'S.No Date Transaction Id Remarks Amount(Rs.) Balance(Rs.)'}, {'text': '1521/05/2024 A2560 JNS-PMSBY-23-24-01219867771-838-2005144467 20.00 (Dr) 671.54 (Cr)'}, {'text': '1610/05/2024 S62942453 Loan Recovery For155326520000008 9480.00 (Dr) 691.54 (Cr)'}, {'text': '1708/05/2024 S45332078 UPIAB/412976308700/CR/PREMNATH/HDFC'}, {'text': '/premnath2496@o2000.00 (Cr) 10171.54 (Cr)'}, {'text': '1807/05/2024 S95304770 UPIAB/412834038865/CR/PREMNATH/HDFC'}, {'text': '/premnath2496@o8000.00 (Cr) 8171.54 (Cr)'}, {'text': '1903/05/2024 S93802685 APY-SI-66420-03/05/2024 82.00 (Dr) 171.54 (Cr)'}, {'text': '2002/05/2024 S36536178 UPIAR/448991814052/DR/C S K FU/YESB/'}, {'text': 'Q958567378@yb100.00 (Dr) 253.54 (Cr)'}, {'text': '2101/05/2024 S26883279 UPIAR/448855599458/DR/RUKKUMAN/YESB/'}, {'text': 'Q240639817@yb90.00 (Dr) 353.54 (Cr)'}, {'text': '2227/04/2024 S41115031 UPIAR/411823922847/DR/PRADEEPK/UBIN'}, {'text': '/pradeepkumarsu50.00 (Dr) 443.54 (Cr)'}, {'text': '2326/04/2024 S73038988 UPIAR/448316718650/DR/Bharti A/UTIB'}, {'text': '/AIRTELPREDIREC20.00 (Dr) 493.54 (Cr)'}, {'text': '2419/04/2024 S80913775 UPIAR/447605726264/DR/ELAYARAJ/YESB/'}, {'text': 'Q755547862@yb138.00 (Dr) 513.54 (Cr)'}, {'text': '2511/04/2024 S36354314 Loan Recovery For155326520000008 58.46 (Dr) 651.54 (Cr)'}, {'text': '2610/04/2024 S97587034 520101030931068:Int.Pd:01-01-2024 to 31-03-2024 710.00 (Cr) 710.00 (Cr)'}, {'text': '2710/04/2024 S90254977 Loan Recovery For155326520000008 9421.54 (Dr) 0.00 (Cr)'}, {'text': '2806/04/2024 S56952041 APY-SI-66420-06/04/2024 82.00 (Dr) 9421.54 (Cr)'}, {'text': '2903/04/2024 S14690169 UPIAB/446040054587/CR/PREMNATH/UBIN/'}, {'text': '8778588300@ax10.00 (Cr) 9503.54 (Cr)'}, {'text': '3003/04/2024 S8399168 General Charges Recovery 14.75 (Dr) 9493.54 (Cr)'}, {'text': '3131/03/2024 S12482062 UPIAB/409161253714/CR/SHIYAMRA/CNRB'}, {'text': '/shiyamram18@ok9500.00 (Cr) 9508.29 (Cr)'}, {'text': '3215/03/2024 S50663299 UPIAR/444104965035/DR/PREMNATH/UBIN/'}, {'text': '8778588300@ax10.00 (Dr) 8.29 (Cr)'}, {'text': '3311/03/2024 S84138166 UPIAR/407145658471/DR/Ambur ho/PYTM'}, {'text': '/paytmqr1bdyyu310.00 (Dr) 18.29 (Cr)'}, {'text': '3411/03/2024 S62580430 UPIAR/407104068871/DR/S Sangee/PYTM'}, {'text': '/paytmqr10tnjeo35.00 (Dr) 28.29 (Cr)'}, {'text': '3510/03/2024 S40231818 UPIAR/407001596061/DR/LAKSHMI /PYTM'}, {'text': '/paytmqrrqr246330.00 (Dr) 63.29 (Cr)'}, {'text': '3610/03/2024 S35606831 Loan Recovery For155326520000008 9480.00 (Dr) 93.29 (Cr)Details of statementScan the QR code'}, {'text': 'to download Vyom on'}, {'text': 'your smartphone'}, {'text': 'NEFT : National Electronic Fund Transfer\\xa0\\xa0\\xa0\\xa0| UPI : Unified Payment Interface'}, {'text': 'RTGS : Real Time Gross Settlement\\xa0\\xa0\\xa0\\xa0\\xa0\\xa0\\xa0\\xa0\\xa0\\xa0\\xa0\\xa0\\xa0\\xa0| INT : Intra Fund Transfer'}, {'text': 'Bharat Bill Payment ServiceBBPS :\\xa0\\xa0\\xa0This is system generated statement and does not require signature'}, {'text': 'https://www.unionbankofindia.co.in'}, {'text': 'Request to our customers for immediately notifying their base branch, in case of any discrepancy'}, {'text': 'in the bank statement.'}, {'text': 'Registered office: Union Bank Bhavan,239,Vidhan Bhavan Marg,Nariman Point,Mumbai-'}, {'text': '400021,India.'}, {'text': 'NEFT : National Electronic Fund Transfer\\xa0\\xa0\\xa0\\xa0| UPI : Unified Payment Interface'}, {'text': 'RTGS : Real Time Gross Settlement\\xa0\\xa0\\xa0\\xa0\\xa0\\xa0\\xa0\\xa0\\xa0\\xa0\\xa0\\xa0\\xa0\\xa0| INT : Intra Fund Transfer'}, {'text': 'Bharat Bill Payment ServiceBBPS :\\xa0\\xa0\\xa0This is system generated statement and does not require signature'}, {'text': 'https://www.unionbankofindia.co.in'}, {'text': 'Request to our customers for immediately notifying their base branch, in case of any discrepancy'}, {'text': 'in the bank statement.'}, {'text': 'Registered office: Union Bank Bhavan,239,Vidhan Bhavan Marg,Nariman Point,Mumbai-'}, {'text': '400021,India.'}, {'text': ''}, {'text': 'S.No Date Transaction Id Remarks Amount(Rs.) Balance(Rs.)'}, {'text': '3707/03/2024 S90032248 UPIAB/406759231406/CR/Mr A RAG/IDIB'}, {'text': '/raghuladhiswar2000.00 (Cr) 9573.29 (Cr)'}, {'text': '3807/03/2024 S89854577 UPIAR/443362339795/DR/KUMARASA/UBIN'}, {'text': '/kumaresan1769@10000.00 (Dr) 7573.29 (Cr)'}, {'text': '3904/03/2024 S49868659 UPIAR/443062809449/DR/KUMARASA/UBIN'}, {'text': '/kumaresan1769@30000.00 (Dr) 17573.29 (Cr)'}, {'text': '4004/03/2024 S28130921 APY-SI-66420-04/03/2024 82.00 (Dr) 47573.29 (Cr)'}, {'text': '4103/03/2024 S996918 UPIAR/442997922774/DR/KUMARASA/UBIN'}, {'text': '/kumaresan1769@50000.00 (Dr) 47655.29 (Cr)'}, {'text': '4202/03/2024 S43666324 UPIAR/442847019660/DR/KUMARASA/UBIN'}, {'text': '/kumaresan1769@50000.00 (Dr) 97655.29 (Cr)'}, {'text': '4302/03/2024 S43615685 UPIAR/442818776288/DR/KUMARASA/UBIN'}, {'text': '/kumaresan1769@50000.00 (Dr) 147655.29 (Cr)'}, {'text': '4429/02/2024 S75597479 UPIAR/442652272296/DR/KUMARASA/UBIN'}, {'text': '/kumaresan1769@40000.00 (Dr) 197655.29 (Cr)'}, {'text': '4529/02/2024 S75549415 UPIAR/442628419088/DR/KUMARASA/UBIN'}, {'text': '/kumaresan1769@50000.00 (Dr) 237655.29 (Cr)'}, {'text': '4629/02/2024 S75404478 UPIAR/442684319579/DR/KUMARASA/UBIN'}, {'text': '/kumaresan1769@1.00 (Dr) 287655.29 (Cr)'}, {'text': '4729/02/2024 S74905900 UPIAR/406064595106/DR/KUMARESA/KVBL'}, {'text': '/kumaresan1407@1.00 (Dr) 287656.29 (Cr)'}, {'text': '4816/02/2024 S8895236 UPIAB/404735793380/CR/PRAVEEN /HDFC'}, {'text': '/praveen89333-11000.00 (Cr) 287657.29 (Cr)'}, {'text': '4916/02/2024 S8143846 UPIAB/404735175261/CR/PRAVEEN /HDFC'}, {'text': '/praveen89333-1700.00 (Cr) 286657.29 (Cr)'}, {'text': '5013/02/2024 S93059860 UPIAB/404442586800/CR/PRAVEEN /HDFC'}, {'text': '/praveen89333-17000.00 (Cr) 285957.29 (Cr)'}, {'text': '5111/02/2024 S3300185 UPIAR/404237981333/DR/PRAKASH /CNRB'}, {'text': '/prakashnadu1907000.00 (Dr) 278957.29 (Cr)'}, {'text': '5210/02/2024 S66902418 UPIAR/404196463809/DR/AVENUE S/ICIC'}, {'text': '/innovdmartka@i2812.70 (Dr) 285957.29 (Cr)'}, {'text': '5310/02/2024 S62431699 Loan Recovery For155326520000008 9480.00 (Dr) 288769.99 (Cr)'}, {'text': '5403/02/2024 S43559557 APY-SI-66420-03/02/2024 165.00 (Dr) 298249.99 (Cr)'}, {'text': '5531/01/2024 S15860461 UPIAR/403176266636/DR/SHASHIKU/PYTM'}, {'text': '/paytmqr2az21sd720.00 (Dr) 298414.99 (Cr)'}, {'text': '5630/01/2024 S62366106 UPIAR/439676429645/DR/Bharti A/UTIB'}, {'text': '/AIRTELPREDIREC157.00 (Dr) 299134.99 (Cr)'}, {'text': '5730/01/2024 A129371 BY CASH 290000.00 (Cr) 299291.99 (Cr)'}, {'text': '5829/01/2024 S39945876 UPIAR/439539540350/DR/YARRAMRE/YESB'}, {'text': '/Q084644632@ybl30.00 (Dr) 9291.99 (Cr)Details of statementScan the QR code'}, {'text': 'to download Vyom on'}, {'text': 'your smartphone'}, {'text': 'NEFT : National Electronic Fund Transfer\\xa0\\xa0\\xa0\\xa0| UPI : Unified Payment Interface'}, {'text': 'RTGS : Real Time Gross Settlement\\xa0\\xa0\\xa0\\xa0\\xa0\\xa0\\xa0\\xa0\\xa0\\xa0\\xa0\\xa0\\xa0\\xa0| INT : Intra Fund Transfer'}, {'text': 'Bharat Bill Payment ServiceBBPS :\\xa0\\xa0\\xa0This is system generated statement and does not require signature'}, {'text': 'https://www.unionbankofindia.co.in'}, {'text': 'Request to our customers for immediately notifying their base branch, in case of any discrepancy'}, {'text': 'in the bank statement.'}, {'text': 'Registered office: Union Bank Bhavan,239,Vidhan Bhavan Marg,Nariman Point,Mumbai-'}, {'text': '400021,India.'}, {'text': 'NEFT : National Electronic Fund Transfer\\xa0\\xa0\\xa0\\xa0| UPI : Unified Payment Interface'}, {'text': 'RTGS : Real Time Gross Settlement\\xa0\\xa0\\xa0\\xa0\\xa0\\xa0\\xa0\\xa0\\xa0\\xa0\\xa0\\xa0\\xa0\\xa0| INT : Intra Fund Transfer'}, {'text': 'Bharat Bill Payment ServiceBBPS :\\xa0\\xa0\\xa0This is system generated statement and does not require signature'}, {'text': 'https://www.unionbankofindia.co.in'}, {'text': 'Request to our customers for immediately notifying their base branch, in case of any discrepancy'}, {'text': 'in the bank statement.'}, {'text': 'Registered office: Union Bank Bhavan,239,Vidhan Bhavan Marg,Nariman Point,Mumbai-'}, {'text': '400021,India.'}, {'text': ''}, {'text': 'S.No Date Transaction Id Remarks Amount(Rs.) Balance(Rs.)'}, {'text': '5929/01/2024 S39699204 UPIAR/402942815648/DR/SAVITHA /PYTM'}, {'text': '/paytmqr494vvpg80.00 (Dr) 9321.99 (Cr)'}, {'text': '6029/01/2024 S20249559 UPIAR/402987753214/DR/Nanditha/PYTM'}, {'text': '/paytmqrw81asad45.00 (Dr) 9401.99 (Cr)'}, {'text': '6129/01/2024 S19404465 UPIAR/402997381565/DR/RAMDEV M/PYTM'}, {'text': '/paytmqr281005028.00 (Dr) 9446.99 (Cr)'}, {'text': '6228/01/2024 S83882951 UPIAR/402871583425/DR/Ambur ho/PYTM'}, {'text': '/paytmqrfztvbyb50.00 (Dr) 9474.99 (Cr)'}, {'text': '6326/01/2024 S7152649 UPIAB/439202127124/CR/PREMNATH/UBIN'}, {'text': '/8778588300@axl2500.00 (Cr) 9524.99 (Cr)'}, {'text': '6426/01/2024 S4976697 1150000001-402611511891 7000.00 (Cr) 7024.99 (Cr)'}, {'text': '6523/01/2024 S93254652 UPIAR/438937435303/DR/K N NARA/YESB'}, {'text': '/Q230193272@ybl10.00 (Dr) 24.99 (Cr)'}, {'text': '6619/01/2024 S39375755 UPIAR/401950731974/DR/Nanditha/PYTM'}, {'text': '/paytmqrknhn7sa30.00 (Dr) 34.99 (Cr)'}, {'text': '6719/01/2024 S20400137 UPIAR/438541979780/DR/S HEMA/YESB'}, {'text': '/Q149167968@ybl85.00 (Dr) 64.99 (Cr)'}, {'text': '6818/01/2024 S19033552 UPIAR/438466844145/DR/MADHAVAR/YESB'}, {'text': '/Q084644632@ybl51.00 (Dr) 149.99 (Cr)'}, {'text': '6918/01/2024 S13546504 UPIAR/438424908181/DR/BHAGYALA/YESB'}, {'text': '/Q888804768@ybl39.00 (Dr) 200.99 (Cr)'}, {'text': '7018/01/2024 S13130400 UPIAR/401800710674/DR/SAVITHA /PYTM'}, {'text': '/paytmqr494vvpg55.00 (Dr) 239.99 (Cr)'}, {'text': '7118/01/2024 S98636933 UPIAR/401888944640/DR/Nanditha/PYTM'}, {'text': '/paytmqrknhn7sa35.00 (Dr) 294.99 (Cr)'}, {'text': '7217/01/2024 S74721383 UPIAR/401726046838/DR/SAVITHA /PYTM'}, {'text': '/paytmqr494vvpg60.00 (Dr) 329.99 (Cr)'}, {'text': '7317/01/2024 S61027630 UPIAR/401794212547/DR/Nanditha/PYTM'}, {'text': '/paytmqrw81asad45.00 (Dr) 389.99 (Cr)'}, {'text': '7417/01/2024 S60579439 UPIAR/438380675270/DR/Indian O/YESB'}, {'text': '/Q961681331@ybl150.00 (Dr) 434.99 (Cr)'}, {'text': '7510/01/2024 S90609000 Loan Recovery For155326520000008 9480.00 (Dr) 584.99 (Cr)'}, {'text': '7608/01/2024 S78326899 UPIAB/437492238612/CR/PREMNATH/UBIN'}, {'text': '/8778588300@axl10000.00 (Cr) 10064.99 (Cr)'}, {'text': '7703/01/2024 S56222267 520101030931068:Int.Pd:01-10-2023 to 31-12-2023 24.00 (Cr) 64.99 (Cr)'}, {'text': '7825/12/2023 S79516007 Sms Charges For Dec Qtr ,2023 8.56 (Dr) 40.99 (Cr)'}, {'text': '7918/12/2023 S94253834 UPIAR/335202912307/DR/S GANGAR/YESB'}, {'text': '/BHARATPE09899560.00 (Dr) 49.55 (Cr)'}, {'text': '8018/12/2023 S87051265 UPIAR/371803193314/DR/Mr YARR/YESB'}, {'text': '/Q084644632@ybl82.00 (Dr) 109.55 (Cr)Details of statementScan the QR code'}, {'text': 'to download Vyom on'}, {'text': 'your smartphone'}, {'text': 'NEFT : National Electronic Fund Transfer\\xa0\\xa0\\xa0\\xa0| UPI : Unified Payment Interface'}, {'text': 'RTGS : Real Time Gross Settlement\\xa0\\xa0\\xa0\\xa0\\xa0\\xa0\\xa0\\xa0\\xa0\\xa0\\xa0\\xa0\\xa0\\xa0| INT : Intra Fund Transfer'}, {'text': 'Bharat Bill Payment ServiceBBPS :\\xa0\\xa0\\xa0This is system generated statement and does not require signature'}, {'text': 'https://www.unionbankofindia.co.in'}, {'text': 'Request to our customers for immediately notifying their base branch, in case of any discrepancy'}, {'text': 'in the bank statement.'}, {'text': 'Registered office: Union Bank Bhavan,239,Vidhan Bhavan Marg,Nariman Point,Mumbai-'}, {'text': '400021,India.'}, {'text': 'NEFT : National Electronic Fund Transfer\\xa0\\xa0\\xa0\\xa0| UPI : Unified Payment Interface'}, {'text': 'RTGS : Real Time Gross Settlement\\xa0\\xa0\\xa0\\xa0\\xa0\\xa0\\xa0\\xa0\\xa0\\xa0\\xa0\\xa0\\xa0\\xa0| INT : Intra Fund Transfer'}, {'text': 'Bharat Bill Payment ServiceBBPS :\\xa0\\xa0\\xa0This is system generated statement and does not require signature'}, {'text': 'https://www.unionbankofindia.co.in'}, {'text': 'Request to our customers for immediately notifying their base branch, in case of any discrepancy'}, {'text': 'in the bank statement.'}, {'text': 'Registered office: Union Bank Bhavan,239,Vidhan Bhavan Marg,Nariman Point,Mumbai-'}, {'text': '400021,India.'}, {'text': ''}, {'text': 'S.No Date Transaction Id Remarks Amount(Rs.) Balance(Rs.)'}, {'text': '8117/12/2023 S45925450 UPIAR/371754617958/DR/NEW RAVI/YESB'}, {'text': '/Q667140447@ybl170.00 (Dr) 191.55 (Cr)'}, {'text': '8216/12/2023 S9388271 UPIAR/335014458949/DR/Aditya E/PYTM/paytm-'}, {'text': '91048874200.00 (Dr) 361.55 (Cr)'}, {'text': '8310/12/2023 S64781817 Loan Recovery For155326520000008 9480.00 (Dr) 561.55 (Cr)'}, {'text': '8406/12/2023 S1501677 UPIAB/370665355923/CR/SHIYAMRA/CNRB'}, {'text': '/shiyamram18@ok1000.00 (Cr) 10041.55 (Cr)'}, {'text': '8506/12/2023 S1342623 UPIAR/334072162165/DR/SHIYAMRA/CNRB'}, {'text': '/shiyamram18@ok1000.00 (Dr) 9041.55 (Cr)'}, {'text': '8603/12/2023 S61765957 APY-SI-66420-03/12/2023 82.00 (Dr) 10041.55 (Cr)'}, {'text': '8703/12/2023 S56419851 UPIAR/370315643619/DR/SIDHARTH/UCBA'}, {'text': '/7064685293@ybl50.00 (Dr) 10123.55 (Cr)'}, {'text': '8801/12/2023 S308636 UPIAB/333536015582/CR/PRAVEEN /HDFC'}, {'text': '/praveen89333-12650.00 (Cr) 10173.55 (Cr)'}, {'text': '8901/12/2023 S90107034 UPIAR/370133848108/DR/PREMNATH/HDFC'}, {'text': '/9095572774@ybl2650.00 (Dr) 7523.55 (Cr)'}, {'text': 'Closing Balance 8644.54 Cr'}, {'text': 'Details of statementScan the QR code'}, {'text': 'to download Vyom on'}, {'text': 'your smartphone'}, {'text': 'NEFT : National Electronic Fund Transfer\\xa0\\xa0\\xa0\\xa0| UPI : Unified Payment Interface'}, {'text': 'RTGS : Real Time Gross Settlement\\xa0\\xa0\\xa0\\xa0\\xa0\\xa0\\xa0\\xa0\\xa0\\xa0\\xa0\\xa0\\xa0\\xa0| INT : Intra Fund Transfer'}, {'text': 'Bharat Bill Payment ServiceBBPS :\\xa0\\xa0\\xa0This is system generated statement and does not require signature'}, {'text': 'https://www.unionbankofindia.co.in'}, {'text': 'Request to our customers for immediately notifying their base branch, in case of any discrepancy'}, {'text': 'in the bank statement.'}, {'text': 'Registered office: Union Bank Bhavan,239,Vidhan Bhavan Marg,Nariman Point,Mumbai-'}, {'text': '400021,India.'}, {'text': 'NEFT : National Electronic Fund Transfer\\xa0\\xa0\\xa0\\xa0| UPI : Unified Payment Interface'}, {'text': 'RTGS : Real Time Gross Settlement\\xa0\\xa0\\xa0\\xa0\\xa0\\xa0\\xa0\\xa0\\xa0\\xa0\\xa0\\xa0\\xa0\\xa0| INT : Intra Fund Transfer'}, {'text': 'Bharat Bill Payment ServiceBBPS :\\xa0\\xa0\\xa0This is system generated statement and does not require signature'}, {'text': 'https://www.unionbankofindia.co.in'}, {'text': 'Request to our customers for immediately notifying their base branch, in case of any discrepancy'}, {'text': 'in the bank statement.'}, {'text': 'Registered office: Union Bank Bhavan,239,Vidhan Bhavan Marg,Nariman Point,Mumbai-'}, {'text': '400021,India.'}, {'text': ''}]\n"
     ]
    }
   ],
   "source": [
    "print(input_data)"
   ]
  },
  {
   "cell_type": "code",
   "execution_count": 38,
   "metadata": {},
   "outputs": [
    {
     "name": "stdout",
     "output_type": "stream",
     "text": [
      "<re.Match object; span=(0, 13), match='MR PREMNATH K'>\n",
      "PREMNATH K\n"
     ]
    }
   ],
   "source": [
    "text = \"MR PREMNATH K\"\n",
    "\n",
    "name_pattern = re.compile(r\"(MR|MRS|MS|Name)\\s+(.+)\")\n",
    "\n",
    "name_match = name_pattern.search(text)\n",
    "print(name_match)\n",
    "\n",
    "name = name_match.group(2).strip()\n",
    "print(name)"
   ]
  },
  {
   "cell_type": "code",
   "execution_count": 23,
   "metadata": {},
   "outputs": [
    {
     "name": "stdout",
     "output_type": "stream",
     "text": [
      "Extracted Name: PREMNATH K\n"
     ]
    }
   ],
   "source": [
    "match = re.search(r\"Name\\s+(.+)\", text)\n",
    "\n",
    "if match:\n",
    "    name = match.group(1)\n",
    "    print(\"Extracted Name:\", name)\n",
    "else:\n",
    "    print(\"Name not found\")"
   ]
  },
  {
   "cell_type": "code",
   "execution_count": 189,
   "metadata": {},
   "outputs": [],
   "source": [
    "text1 = \"01/11/23 UPI-TEA SPARK-PAYTMQR281005050101KWVY78R 0000330574617154 01/11/23 32.00 10,105,076.41\"\n",
    "text12 = \"01/11/23 UPI-TEA SPARK-PAYTMQR281005050101KWVY78R 0000330574617154 01/11/23 32.00 10,105,076.41 HUKGC KUGHC\"\n",
    "text2 = \"331/05/2024 S79363620 UPIAR/451806719583/DR/Anojja /SBIN/ anojja@yb 75.00 (Dr) 9514.54 (Cr)\"\n",
    "text3 = \"Chq: 33510991009430.00 1,440.85\""
   ]
  },
  {
   "cell_type": "code",
   "execution_count": 154,
   "metadata": {},
   "outputs": [
    {
     "name": "stdout",
     "output_type": "stream",
     "text": [
      "31 05 2024\n"
     ]
    }
   ],
   "source": [
    "date = re.search(\"[0-9]{2,}/[0-9]{2,}/[0-9]{2,}\", text2)\n",
    "if date:\n",
    "    date = date.group(0)\n",
    "    splitted_date = date.split(\"/\")\n",
    "    day = month = year = None\n",
    "    for mdy in splitted_date:\n",
    "        day = splitted_date[0][-2:]\n",
    "        month = splitted_date[1]\n",
    "        year = (\n",
    "            splitted_date[2][0:4]\n",
    "            if len(splitted_date[2]) >= 4\n",
    "            else splitted_date[2][0:4]\n",
    "        )\n",
    "\n",
    "    print(day, month, year)"
   ]
  },
  {
   "cell_type": "code",
   "execution_count": 194,
   "metadata": {},
   "outputs": [
    {
     "name": "stdout",
     "output_type": "stream",
     "text": [
      "-----------\n",
      "<re.Match object; span=(79, 95), match='958,7614.54 (Cr)'>\n",
      "958,7614.54\n",
      "Cr\n"
     ]
    }
   ],
   "source": [
    "\n",
    "closing_amount = re.search(r\"(\\d{1,3}(?:,\\d{3})*(?:\\.\\d{2})?)$\", text)\n",
    "if closing_amount:\n",
    "    print(\"closing_amount\", closing_amount.group(1))\n",
    "\n",
    "print('-----------')\n",
    "\n",
    "text = \"331/05/2024 S79363620 UPIAR/451806719583/DR/Anojja /SBIN/ anojja@yb 75.00 (Dr) 958,7614.54 (Cr)\"\n",
    "match = re.search(r\"(\\d{1,}(?:,\\d{4})*(?:\\.\\d{2})?)\\s*\\((Dr|Cr)\\)$\", text)\n",
    "print(match)\n",
    "if match:\n",
    "    print(match.group(1))  # The last amount in the string\n",
    "    print(match.group(2))  # The preceding (Dr) or (Cr)\n"
   ]
  }
 ],
 "metadata": {
  "kernelspec": {
   "display_name": "ocr",
   "language": "python",
   "name": "python3"
  },
  "language_info": {
   "codemirror_mode": {
    "name": "ipython",
    "version": 3
   },
   "file_extension": ".py",
   "mimetype": "text/x-python",
   "name": "python",
   "nbconvert_exporter": "python",
   "pygments_lexer": "ipython3",
   "version": "3.11.7"
  }
 },
 "nbformat": 4,
 "nbformat_minor": 2
}
